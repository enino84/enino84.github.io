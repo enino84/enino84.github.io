{
  "nbformat": 4,
  "nbformat_minor": 0,
  "metadata": {
    "colab": {
      "name": "DA_02092020.ipynb",
      "provenance": [],
      "collapsed_sections": []
    },
    "kernelspec": {
      "name": "python3",
      "display_name": "Python 3"
    }
  },
  "cells": [
    {
      "cell_type": "code",
      "metadata": {
        "id": "ZoM7abYAM4rp",
        "colab_type": "code",
        "colab": {}
      },
      "source": [
        "import numpy as np\n",
        "from scipy.integrate import odeint\n",
        "import matplotlib.pyplot as plt\n",
        "import seaborn as sns"
      ],
      "execution_count": 4,
      "outputs": []
    },
    {
      "cell_type": "code",
      "metadata": {
        "id": "y6qAY4xPPSeE",
        "colab_type": "code",
        "colab": {}
      },
      "source": [
        "n = 40;\n",
        "F = 8;"
      ],
      "execution_count": 5,
      "outputs": []
    },
    {
      "cell_type": "markdown",
      "metadata": {
        "id": "172AMlFQOzca",
        "colab_type": "text"
      },
      "source": [
        "# Lorenz 96 Model "
      ]
    },
    {
      "cell_type": "markdown",
      "metadata": {
        "id": "gwxhwBmGjTbf",
        "colab_type": "text"
      },
      "source": [
        "$$\\frac{dx_i}{dt} = (x_{i+1}-x_{i-2}) \\cdot x_{i-1} - x_i + \\underbrace{F}_{\\text{External Force}},\\, \\text{ for $1 \\le i \\le n$},\\,$$\n",
        "where periodic boundary conditions are assumed."
      ]
    },
    {
      "cell_type": "code",
      "metadata": {
        "id": "21eaWVw_O2TC",
        "colab_type": "code",
        "colab": {}
      },
      "source": [
        "def lorenz96(x, t):\n",
        "  n = len(x);\n",
        "  dx = [(x[np.mod(i+1,n)]-x[i-2])*x[i-1]-x[i]+F for i in range(0,n)];\n",
        "  return dx;"
      ],
      "execution_count": 6,
      "outputs": []
    },
    {
      "cell_type": "markdown",
      "metadata": {
        "id": "CJfSeRTfQHeO",
        "colab_type": "text"
      },
      "source": [
        "1. Initial Condition - Long Term Propagation"
      ]
    },
    {
      "cell_type": "code",
      "metadata": {
        "id": "EA6y1_YZQMpw",
        "colab_type": "code",
        "colab": {}
      },
      "source": [
        "np.random.seed(seed=10);\n",
        "x0 = np.random.randn(n);\n",
        "t = np.arange(0,30,0.01);\n",
        "x = odeint(lorenz96,x0,t);\n",
        "xt = x[-1,:]; #Initial Condition\n"
      ],
      "execution_count": 7,
      "outputs": []
    },
    {
      "cell_type": "markdown",
      "metadata": {
        "id": "HCgO7BY7R_ia",
        "colab_type": "text"
      },
      "source": [
        "2. Initial Background"
      ]
    },
    {
      "cell_type": "code",
      "metadata": {
        "id": "JB2h2hijR9mF",
        "colab_type": "code",
        "colab": {}
      },
      "source": [
        "xb = xt+0.05*np.random.randn(n);\n",
        "\n",
        "## Propagate xb\n",
        "x = odeint(lorenz96, xb, t);\n",
        "xb = x[-1,:]; #Background state (initial)\n",
        "\n",
        "## Propagate xt\n",
        "xs = odeint(lorenz96, xt, t);\n",
        "xt = xs[-1,:]; #xb(k) - xt(k) en ambos k es el mismo\n",
        "\n",
        "#sns.set_style('darkgrid')\n",
        "#plt.plot(x[:,1]);\n",
        "#plt.plot(xs[:,1]);\n"
      ],
      "execution_count": 8,
      "outputs": []
    },
    {
      "cell_type": "markdown",
      "metadata": {
        "id": "YKu-RhpoUk90",
        "colab_type": "text"
      },
      "source": [
        "Creating the initial ensemble"
      ]
    },
    {
      "cell_type": "code",
      "metadata": {
        "id": "iYiFNiNrUot4",
        "colab_type": "code",
        "colab": {}
      },
      "source": [
        "N_total = 200;\n",
        "ones = np.ones(N_total);\n",
        "\n",
        "#Initial ensemble not consistent with model dynamics\n",
        "XB = np.outer(ones,xb) + 0.05*np.random.randn(N_total,n);\n",
        "\n",
        "#Propagate ensemble\n",
        "time = np.arange(0,10,0.01);\n",
        "M = len(time);\n",
        "snapshots = np.zeros((N_total,M,n));\n",
        "for e in range(0,N_total):\n",
        "  sol = odeint(lorenz96,XB[e,:],time); #in Re^{M \\times n}\n",
        "  snapshots[e,:,:] = sol;\n",
        "  XB[e,:] = sol[-1,:];\n",
        "\n",
        "#Propagate initial condition to get to time XB(t)\n",
        "xSt = odeint(lorenz96,xt,time);\n",
        "xt = xSt[-1,:]; "
      ],
      "execution_count": 9,
      "outputs": []
    },
    {
      "cell_type": "markdown",
      "metadata": {
        "id": "eKXQwWVFXrvc",
        "colab_type": "text"
      },
      "source": [
        "# Projectors\n",
        "\n",
        "$${\\bf X}^b = {\\bf U} \\cdot \\boldsymbol{\\Sigma} \\cdot {\\bf V}^T \\rightarrow {\\bf X}^b\\cdot {\\bf V} \\cdot \\boldsymbol{\\Sigma}^{-1} = {\\bf U} $$"
      ]
    },
    {
      "cell_type": "code",
      "metadata": {
        "id": "whOIGPtcYLlH",
        "colab_type": "code",
        "colab": {}
      },
      "source": [
        "import scipy.linalg as lan"
      ],
      "execution_count": 10,
      "outputs": []
    },
    {
      "cell_type": "code",
      "metadata": {
        "id": "WF2GXeIzXqA6",
        "colab_type": "code",
        "colab": {
          "base_uri": "https://localhost:8080/",
          "height": 441
        },
        "outputId": "825c1666-fb08-4f08-b3f4-ac5627636b20"
      },
      "source": [
        "U,S,V = lan.svd(XB);\n",
        "sns.jointplot(x=U[:,0],y=U[:,1],kind='kde');"
      ],
      "execution_count": 11,
      "outputs": [
        {
          "output_type": "display_data",
          "data": {
            "image/png": "[encoded data removed]",
            "text/plain": [
              "<Figure size 432x432 with 3 Axes>"
            ]
          },
          "metadata": {
            "tags": [],
            "needs_background": "light"
          }
        }
      ]
    },
    {
      "cell_type": "code",
      "metadata": {
        "id": "GqiOt8VdZnzH",
        "colab_type": "code",
        "colab": {
          "base_uri": "https://localhost:8080/",
          "height": 52
        },
        "outputId": "1445c88a-879e-4947-cf35-fcd5c259f3ea"
      },
      "source": [
        "N = 20;\n",
        "ind = np.random.permutation(np.arange(0,N_total))[:N];\n",
        "print(ind)"
      ],
      "execution_count": 13,
      "outputs": [
        {
          "output_type": "stream",
          "text": [
            "[ 33 112  68 186  24 181  81 184 103 147  99  92 199 163  32  61 100 101\n",
            " 141 130]\n"
          ],
          "name": "stdout"
        }
      ]
    },
    {
      "cell_type": "code",
      "metadata": {
        "id": "IRZzUk72fl-o",
        "colab_type": "code",
        "colab": {
          "base_uri": "https://localhost:8080/",
          "height": 569
        },
        "outputId": "3ea0eeb1-ffc2-4d09-ab28-74fe82944a57"
      },
      "source": [
        "plt.figure(figsize=(10,8))\n",
        "plt.matshow(np.abs(np.corrcoef(XB.transpose())));\n",
        "plt.colorbar()\n",
        "\n",
        "XB_0 = XB[ind,:];\n",
        "print(np.shape(XB_0))\n",
        "plt.figure(figsize=(10,8))\n",
        "plt.matshow(np.abs(np.corrcoef(XB_0.transpose())));\n",
        "plt.colorbar()\n",
        "\n"
      ],
      "execution_count": 19,
      "outputs": [
        {
          "output_type": "stream",
          "text": [
            "(20, 40)\n"
          ],
          "name": "stdout"
        },
        {
          "output_type": "execute_result",
          "data": {
            "text/plain": [
              "<matplotlib.colorbar.Colorbar at 0x7ff91df55550>"
            ]
          },
          "metadata": {
            "tags": []
          },
          "execution_count": 19
        },
        {
          "output_type": "display_data",
          "data": {
            "text/plain": [
              "<Figure size 720x576 with 0 Axes>"
            ]
          },
          "metadata": {
            "tags": []
          }
        },
        {
          "output_type": "display_data",
          "data": {
            "image/png": "[encoded data removed]",
            "text/plain": [
              "<Figure size 288x288 with 2 Axes>"
            ]
          },
          "metadata": {
            "tags": [],
            "needs_background": "light"
          }
        },
        {
          "output_type": "display_data",
          "data": {
            "text/plain": [
              "<Figure size 720x576 with 0 Axes>"
            ]
          },
          "metadata": {
            "tags": []
          }
        },
        {
          "output_type": "display_data",
          "data": {
            "image/png": "[encoded data removed]",
            "text/plain": [
              "<Figure size 288x288 with 2 Axes>"
            ]
          },
          "metadata": {
            "tags": [],
            "needs_background": "light"
          }
        }
      ]
    },
    {
      "cell_type": "markdown",
      "metadata": {
        "id": "8wk2sWfMdrZy",
        "colab_type": "text"
      },
      "source": [
        "# EnKF\n",
        "\\begin{eqnarray}\n",
        "{\\bf X}^a = {\\bf X}^b + {\\bf P}^b \\cdot {\\bf H}^T \\cdot {\\bf Z}\n",
        "\\end{eqnarray}"
      ]
    },
    {
      "cell_type": "code",
      "metadata": {
        "id": "PATNEfbLnW_Z",
        "colab_type": "code",
        "colab": {
          "base_uri": "https://localhost:8080/",
          "height": 386
        },
        "outputId": "ef87e1b0-3918-4c30-c70d-c84464285d4a"
      },
      "source": [
        "np.random.seed(seed=10);\n",
        "\n",
        "time_step = 0.01;\n",
        "T = 15; #Number of time steps to simulate\n",
        "\n",
        "I = np.eye(n,n);\n",
        "\n",
        "N = 20;\n",
        "ind = np.random.permutation(np.arange(0,N_total))[:N];\n",
        "\n",
        "#Initial variables for the tests.\n",
        "xt_k = xt.copy();\n",
        "XB_k = XB[ind,:].copy().transpose();\n",
        "\n",
        "#Number of observed components\n",
        "p = 0.8;\n",
        "m = int(round(p*n));\n",
        "sig_obs = 0.01;\n",
        "R_k = (sig_obs**2)*np.eye(m,m);\n",
        "\n",
        "errorb_k = np.zeros(T);\n",
        "errora_k = np.zeros(T);\n",
        "\n",
        "\n",
        "for k in range(0,T):\n",
        "\n",
        "  print(f'Assimilation Cycle {k}');\n",
        "\n",
        "  #Prior parameters\n",
        "  xb_k = np.mean(XB_k,1);\n",
        "  PB_k = np.cov(XB_k);\n",
        "\n",
        "  #Prior error\n",
        "  errorb_k[k] = np.linalg.norm(xt_k-xb_k);\n",
        "\n",
        "  #Observation at time step k - we are simulating an observation\n",
        "  obs_comp = np.random.permutation(n);\n",
        "  obs_comp = obs_comp[0:m];\n",
        "  H_k = I[obs_comp,:];\n",
        "  err_obs_k = sig_obs*np.random.randn(m);\n",
        "  y_k = H_k@xt_k + err_obs_k;\n",
        "\n",
        "  #Synthetic observations\n",
        "  Eobs_k = sig_obs*np.random.randn(m,N);\n",
        "  Yobs_k = np.outer(y_k,np.ones(N)) + Eobs_k;\n",
        "\n",
        "  #Matrix of innovation ob the synthetic observations\n",
        "  D_k = Yobs_k-H_k@XB_k; #np.matmul(H_k,XB_k)\n",
        "\n",
        "  #Innovation matrix\n",
        "  IN_k = R_k + H_k@PB_k@H_k.transpose();\n",
        "  Z_k = np.linalg.solve(IN_k,D_k);\n",
        "\n",
        "  #Analysis ensemble (posterior ensemble)\n",
        "  XA_k = XB_k + PB_k@H_k.transpose()@Z_k;\n",
        "  xa_k = np.mean(XA_k,1);\n",
        "\n",
        "  #Posterior error\n",
        "  errora_k[k] = np.linalg.norm(xt_k-xa_k);\n",
        "\n",
        "  #Forecast Step\n",
        "  for e in range(0,N):\n",
        "    XA_e_S = odeint(lorenz96,XA_k[:,e],[0,time_step]);\n",
        "    XB_k[:,e] = XA_e_S[-1,:];\n",
        "  \n",
        "  #Forecast of actual state (for reference)\n",
        "  xt_S = odeint(lorenz96,xt_k,[0,time_step]);\n",
        "  xt_k = xt_S[-1,:];\n",
        "\n",
        "\n",
        "\n",
        "print(errorb_k)\n",
        "print(errora_k)"
      ],
      "execution_count": 20,
      "outputs": [
        {
          "output_type": "stream",
          "text": [
            "Assimilation Cycle 0\n",
            "Assimilation Cycle 1\n",
            "Assimilation Cycle 2\n",
            "Assimilation Cycle 3\n",
            "Assimilation Cycle 4\n",
            "Assimilation Cycle 5\n",
            "Assimilation Cycle 6\n",
            "Assimilation Cycle 7\n",
            "Assimilation Cycle 8\n",
            "Assimilation Cycle 9\n",
            "Assimilation Cycle 10\n",
            "Assimilation Cycle 11\n",
            "Assimilation Cycle 12\n",
            "Assimilation Cycle 13\n",
            "Assimilation Cycle 14\n",
            "[22.86637437 16.64595391 12.89037931 12.76004728 12.52844345 12.33305387\n",
            " 12.22513409 12.05957387 11.93692399 11.79185671 11.65108694 11.55005744\n",
            " 11.45280734 11.35644274 11.2866094 ]\n",
            "[16.53935748 12.93819237 12.82048739 12.6104284  12.41840463 12.30169921\n",
            " 12.13311806 12.00404414 11.8473026  11.69742513 11.58275617 11.47334595\n",
            " 11.36302787 11.27690584 11.18162312]\n"
          ],
          "name": "stdout"
        }
      ]
    },
    {
      "cell_type": "code",
      "metadata": {
        "id": "dRXW8AkSr1qa",
        "colab_type": "code",
        "colab": {
          "base_uri": "https://localhost:8080/",
          "height": 265
        },
        "outputId": "9bfd046b-66a0-4061-b5dd-7c77d738ef06"
      },
      "source": [
        "sns.set_style('darkgrid')\n",
        "plt.plot(np.log(errorb_k),'b');\n",
        "plt.plot(np.log(errora_k),'r');"
      ],
      "execution_count": 22,
      "outputs": [
        {
          "output_type": "display_data",
          "data": {
            "image/png": "[encoded data removed]",
            "text/plain": [
              "<Figure size 432x288 with 1 Axes>"
            ]
          },
          "metadata": {
            "tags": []
          }
        }
      ]
    },
    {
      "cell_type": "markdown",
      "metadata": {
        "id": "v6JzcB_6hTH-",
        "colab_type": "text"
      },
      "source": [
        "# EnKF\n",
        "\\begin{eqnarray}\n",
        "{\\bf X}^a = {\\bf X}^b + \\boldsymbol{\\Delta}\\widehat{\\bf X}^b \\cdot {\\bf Q}^T \\cdot {\\bf Z}\n",
        "\\end{eqnarray}"
      ]
    },
    {
      "cell_type": "code",
      "metadata": {
        "id": "qJTvMBHXd__o",
        "colab_type": "code",
        "colab": {
          "base_uri": "https://localhost:8080/",
          "height": 386
        },
        "outputId": "f074894e-cad7-4813-fc93-5904c2a7d1c1"
      },
      "source": [
        "np.random.seed(seed=20);\n",
        "\n",
        "time_step = 0.01;\n",
        "T = 15; #Number of time steps to simulate\n",
        "\n",
        "I = np.eye(n,n);\n",
        "\n",
        "N = 20;\n",
        "ind = np.random.permutation(np.arange(0,N_total))[:N];\n",
        "\n",
        "#Initial variables for the tests.\n",
        "xt_k = xt.copy();\n",
        "XB_k = XB[ind,:].copy().transpose();\n",
        "\n",
        "#Number of observed components\n",
        "p = 0.8;\n",
        "m = int(round(p*n));\n",
        "sig_obs = 0.01;\n",
        "R_k = (sig_obs**2)*np.eye(m,m);\n",
        "\n",
        "errorb_k = np.zeros(T);\n",
        "errora_k = np.zeros(T);\n",
        "\n",
        "\n",
        "for k in range(0,T):\n",
        "\n",
        "  print(f'Assimilation Cycle {k}');\n",
        "\n",
        "  #Prior parameters\n",
        "  xb_k = np.mean(XB_k,1);\n",
        "  PB_k = np.cov(XB_k);\n",
        "\n",
        "  #Prior error\n",
        "  errorb_k[k] = np.linalg.norm(xt_k-xb_k);\n",
        "\n",
        "  #Observation at time step k - we are simulating an observation\n",
        "  obs_comp = np.random.permutation(n);\n",
        "  obs_comp = obs_comp[0:m];\n",
        "  H_k = I[obs_comp,:];\n",
        "  err_obs_k = sig_obs*np.random.randn(m);\n",
        "  y_k = H_k@xt_k + err_obs_k;\n",
        "\n",
        "  #Synthetic observations\n",
        "  Eobs_k = sig_obs*np.random.randn(m,N);\n",
        "  Yobs_k = np.outer(y_k,np.ones(N)) + Eobs_k;\n",
        "\n",
        "  #Matrix of innovation ob the synthetic observations\n",
        "  D_k = Yobs_k-H_k@XB_k; #np.matmul(H_k,XB_k)\n",
        "\n",
        "  DX_k = XB_k-np.outer(xb_k,np.ones(N));\n",
        "  DXG_k = 1/(np.sqrt(N-1))*DX_k;\n",
        "  #Innovation matrix\n",
        "  Q_k = H_k@DXG_k;\n",
        "  IN_k = R_k + Q_k@Q_k.transpose();\n",
        "  Z_k = np.linalg.solve(IN_k,D_k);\n",
        "\n",
        "  #Analysis ensemble (posterior ensemble)\n",
        "  XA_k = XB_k + DXG_k@(Q_k.transpose()@Z_k);\n",
        "  xa_k = np.mean(XA_k,1);\n",
        "\n",
        "  #Posterior error\n",
        "  errora_k[k] = np.linalg.norm(xt_k-xa_k);\n",
        "\n",
        "  #Forecast Step\n",
        "  for e in range(0,N):\n",
        "    XA_e_S = odeint(lorenz96,XA_k[:,e],[0,time_step]);\n",
        "    XB_k[:,e] = XA_e_S[-1,:];\n",
        "  \n",
        "  #Forecast of actual state (for reference)\n",
        "  xt_S = odeint(lorenz96,xt_k,[0,time_step]);\n",
        "  xt_k = xt_S[-1,:];\n",
        "\n",
        "\n",
        "\n",
        "print(errorb_k)\n",
        "print(errora_k)"
      ],
      "execution_count": 38,
      "outputs": [
        {
          "output_type": "stream",
          "text": [
            "Assimilation Cycle 0\n",
            "Assimilation Cycle 1\n",
            "Assimilation Cycle 2\n",
            "Assimilation Cycle 3\n",
            "Assimilation Cycle 4\n",
            "Assimilation Cycle 5\n",
            "Assimilation Cycle 6\n",
            "Assimilation Cycle 7\n",
            "Assimilation Cycle 8\n",
            "Assimilation Cycle 9\n",
            "Assimilation Cycle 10\n",
            "Assimilation Cycle 11\n",
            "Assimilation Cycle 12\n",
            "Assimilation Cycle 13\n",
            "Assimilation Cycle 14\n",
            "[20.24445917 19.68950831 16.82355063 16.22319712 16.13752042 15.93241675\n",
            " 15.78545116 15.57297651 15.47755816 15.41080463 15.35808235 15.33861333\n",
            " 15.35586836 15.38034088 15.34602884]\n",
            "[19.93218013 16.99438958 16.35523993 16.26010281 16.05720064 15.88588373\n",
            " 15.63050522 15.51330874 15.42972744 15.34741892 15.29591369 15.28625649\n",
            " 15.28981532 15.24729691 15.20297633]\n"
          ],
          "name": "stdout"
        }
      ]
    },
    {
      "cell_type": "code",
      "metadata": {
        "id": "fPm7Fw4Agjbn",
        "colab_type": "code",
        "colab": {
          "base_uri": "https://localhost:8080/",
          "height": 265
        },
        "outputId": "58246e52-d9b7-4675-a783-58fa47d1885b"
      },
      "source": [
        "sns.set_style('darkgrid')\n",
        "plt.plot(np.log(errorb_k),'b');\n",
        "plt.plot(np.log(errora_k),'r');"
      ],
      "execution_count": 39,
      "outputs": [
        {
          "output_type": "display_data",
          "data": {
            "image/png": "[encoded data removed]",
            "text/plain": [
              "<Figure size 432x288 with 1 Axes>"
            ]
          },
          "metadata": {
            "tags": []
          }
        }
      ]
    },
    {
      "cell_type": "code",
      "metadata": {
        "id": "n77VxNJ-ePyC",
        "colab_type": "code",
        "colab": {
          "base_uri": "https://localhost:8080/",
          "height": 709
        },
        "outputId": "5f9a24cc-36b5-4f85-dc83-e55bc34c2fa3"
      },
      "source": [
        "xb_k = np.mean(XB_k,1);\n",
        "print(xb_k)\n",
        "\n",
        "PB_k = np.cov(XB_k)\n",
        "print(np.shape(PB_k))\n",
        "\n",
        "print(np.linalg.matrix_rank(PB_k))\n",
        "\n",
        "DX_k = XB_k-np.outer(xb_k,np.ones(N));\n",
        "\n",
        "PB_Q_k = (1/(N-1))*DX_k@DX_k.transpose(); #Covariance\n",
        "\n",
        "plt.matshow(PB_k)\n",
        "\n",
        "\n",
        "plt.matshow(PB_Q_k)"
      ],
      "execution_count": 35,
      "outputs": [
        {
          "output_type": "stream",
          "text": [
            "[ 5.32323874  4.43271984  1.6150781  -2.61286679  2.186321    5.14869927\n",
            "  6.19727832  1.13789392 -1.18815101  4.21923987  8.04413912  0.42417444\n",
            "  1.49951315 -0.83585376  1.22797829  7.78079872  1.43555436  0.18186149\n",
            "  1.02397275  5.96953459  6.95838736 -2.88766856  3.8021494   3.75707858\n",
            "  6.36863916  5.67402494  1.33765706  3.7266527   2.81005085  2.0671381\n",
            "  2.80208844  3.61067042 -2.80417257 -2.35101892 -0.26006672  8.07021562\n",
            "  5.32545013 -1.9737032  -1.15314962  1.65569278]\n",
            "(40, 40)\n",
            "19\n"
          ],
          "name": "stdout"
        },
        {
          "output_type": "execute_result",
          "data": {
            "text/plain": [
              "<matplotlib.image.AxesImage at 0x7ff91e51c668>"
            ]
          },
          "metadata": {
            "tags": []
          },
          "execution_count": 35
        },
        {
          "output_type": "display_data",
          "data": {
            "image/png": "[encoded data removed]",
            "text/plain": [
              "<Figure size 288x288 with 1 Axes>"
            ]
          },
          "metadata": {
            "tags": []
          }
        },
        {
          "output_type": "display_data",
          "data": {
            "image/png": "[encoded data removed]",
            "text/plain": [
              "<Figure size 288x288 with 1 Axes>"
            ]
          },
          "metadata": {
            "tags": []
          }
        }
      ]
    }
  ]
}